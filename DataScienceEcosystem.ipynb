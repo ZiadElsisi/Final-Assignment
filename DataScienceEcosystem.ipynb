{
 "cells": [
  {
   "cell_type": "markdown",
   "id": "7241d6e8-713c-434a-b9e6-b877a1856e0c",
   "metadata": {},
   "source": [
    "# Data Science Tools and Ecosystem"
   ]
  },
  {
   "attachments": {},
   "cell_type": "markdown",
   "id": "f2465e1a-8abd-4f01-9218-046aeebc52e4",
   "metadata": {},
   "source": [
    "### In this notebook, Data Science Tools and Ecosystem are summarized.\n",
    "\n"
   ]
  },
  {
   "cell_type": "markdown",
   "id": "8cbb1a52-497d-4bb5-81e1-7a1673f54224",
   "metadata": {},
   "source": [
    " ##### Some of the popular languages that Data Scientists use are:\n",
    "1. python\n",
    "2. R\n",
    "3. julia"
   ]
  },
  {
   "cell_type": "markdown",
   "id": "d054bb43-c5e7-474f-b856-aae4835f1175",
   "metadata": {},
   "source": [
    " ##### Some of the commonly used libraries used by Data Scientists include:\n",
    "1. pandas\n",
    "2. numpy\n",
    "3. matplotlib\n"
   ]
  },
  {
   "cell_type": "markdown",
   "id": "80e5d87a-07d7-420c-8c57-2c18d6533368",
   "metadata": {},
   "source": [
    "|| Data Science Tools ||\n",
    "|-|-------------------|--|\n",
    "|| JupyterLab ||\n",
    "|| RStudio ||\n",
    "|| Git ||"
   ]
  },
  {
   "cell_type": "markdown",
   "id": "c544c1d0-0807-48db-b551-37a7ed27a44b",
   "metadata": {},
   "source": [
    "### Below are a few examples of evaluating arithmetic expressions in Python.\n",
    "\n"
   ]
  },
  {
   "cell_type": "code",
   "execution_count": 4,
   "id": "79148fa1-2781-4445-acd6-d9099bf8e2a8",
   "metadata": {},
   "outputs": [
    {
     "data": {
      "text/plain": [
       "17"
      ]
     },
     "execution_count": 4,
     "metadata": {},
     "output_type": "execute_result"
    }
   ],
   "source": [
    "# This a simple arithmetic expression to mutiply then add integers\n",
    "(3*4)+5"
   ]
  },
  {
   "cell_type": "code",
   "execution_count": 5,
   "id": "24698745-63e7-4777-92dd-28121e397fad",
   "metadata": {},
   "outputs": [
    {
     "data": {
      "text/plain": [
       "3.3333333333333335"
      ]
     },
     "execution_count": 5,
     "metadata": {},
     "output_type": "execute_result"
    }
   ],
   "source": [
    "# This will convert 200 minutes to hours by diving by 60 \n",
    "200/60"
   ]
  },
  {
   "cell_type": "markdown",
   "id": "7f3c0f6d-f856-4912-8055-e87126537006",
   "metadata": {},
   "source": [
    "**Objectives:**\n",
    "- List popular languages for Data Science\n",
    "- List popular tools for Data Science\n",
    "- List popular libraries for Data Science\n",
    "- evaluating arithmetic expressions with Python"
   ]
  },
  {
   "cell_type": "markdown",
   "id": "c23236cf-ec18-4faa-bc9c-287a17e3afb0",
   "metadata": {},
   "source": [
    "## Author \n",
    "Ziad Elsayed"
   ]
  }
 ],
 "metadata": {
  "kernelspec": {
   "display_name": "Python [conda env:base] *",
   "language": "python",
   "name": "conda-base-py"
  },
  "language_info": {
   "codemirror_mode": {
    "name": "ipython",
    "version": 3
   },
   "file_extension": ".py",
   "mimetype": "text/x-python",
   "name": "python",
   "nbconvert_exporter": "python",
   "pygments_lexer": "ipython3",
   "version": "3.13.5"
  }
 },
 "nbformat": 4,
 "nbformat_minor": 5
}
